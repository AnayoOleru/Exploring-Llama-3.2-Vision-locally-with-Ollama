{
 "cells": [
  {
   "cell_type": "markdown",
   "id": "19e691f1-e5d5-4aa4-a53e-6ddcdd23e18d",
   "metadata": {},
   "source": [
    "# Exploring Llama 3.2-Vision (locally) with Ollama"
   ]
  },
  {
   "cell_type": "markdown",
   "id": "9004ada7-b590-45ae-87d8-6968558bd932",
   "metadata": {},
   "source": [
    "### imports"
   ]
  },
  {
   "cell_type": "code",
   "execution_count": 3,
   "id": "353a71c8-f7c8-4e7d-93df-d3a55cd6b039",
   "metadata": {},
   "outputs": [],
   "source": [
    "import ollama"
   ]
  },
  {
   "cell_type": "markdown",
   "id": "d77b99af-7ca5-4628-9377-ddd0f5bf30c7",
   "metadata": {},
   "source": [
    "### pull model"
   ]
  },
  {
   "cell_type": "code",
   "execution_count": 4,
   "id": "726a200d-921e-4a8e-a38b-4ac38a99ad25",
   "metadata": {},
   "outputs": [
    {
     "data": {
      "text/plain": [
       "ProgressResponse(status='success', completed=None, total=None, digest=None)"
      ]
     },
     "execution_count": 4,
     "metadata": {},
     "output_type": "execute_result"
    }
   ],
   "source": [
    "ollama.pull('llama3.2-vision')"
   ]
  },
  {
   "cell_type": "markdown",
   "id": "8c77b5ab-7cd6-4815-b12c-6f7c58dbb5aa",
   "metadata": {},
   "source": [
    "#### Basic Usage"
   ]
  },
  {
   "cell_type": "code",
   "execution_count": 19,
   "id": "3f526327-a9b5-46a9-9008-e9cb65ed260d",
   "metadata": {},
   "outputs": [
    {
     "name": "stdout",
     "output_type": "stream",
     "text": [
      "The image depicts a man sitting comfortably on a chair with his legs crossed, exuding a sense of relaxation. His attire consists of a light green button-up shirt over a white t-shirt and brown pants, complemented by white shoes that add a touch of elegance to the overall look. The man's curly hair adds a layer of texture to the image, while his right hand is positioned on his leg, suggesting a moment of contemplation or conversation.\n",
      "\n",
      "The background of the image is a plain wall with no decorations, which creates a sense of simplicity and minimalism. However, the light-colored floor adds a touch of warmth and coziness to the setting, making it feel inviting and comfortable. Overall, the image conveys a feeling of calmness and serenity, suggesting that the man is enjoying some quiet time or perhaps engaging in a conversation with someone off-camera.\n"
     ]
    }
   ],
   "source": [
    "import requests\n",
    "import base64\n",
    "\n",
    "# Step 1: Download the image from a URL\n",
    "url = \"https://media.istockphoto.com/id/1372362461/photo/handome-young-indian-man-chatting-with-girlfriend-using-smartphone.jpg?s=612x612&w=0&k=20&c=6JjzP-NldQGkePmmwEttJEDJtTTLwh_Xu05PzgssGFg=\"\n",
    "response = requests.get(url)\n",
    "image_bytes = response.content\n",
    "\n",
    "# Step 2: Convert image to base64 string\n",
    "image_base64 = base64.b64encode(image_bytes).decode('utf-8')\n",
    "\n",
    "\n",
    "response = ollama.chat(\n",
    "    model='llama3.2-vision',\n",
    "    messages=[{\n",
    "        'role': 'user',\n",
    "        'content': 'What is in this image?',\n",
    "        'images': [image_base64]\n",
    "    }]\n",
    ")\n",
    "\n",
    "print(response['message']['content'])"
   ]
  },
  {
   "cell_type": "markdown",
   "id": "dbfabe75-b6e2-41f4-8538-371192135ae2",
   "metadata": {},
   "source": [
    "#### Image captioning - streaming"
   ]
  },
  {
   "cell_type": "code",
   "execution_count": 21,
   "id": "dc29b737-6f86-4cee-a7c4-274ba2f10c2a",
   "metadata": {},
   "outputs": [
    {
     "name": "stdout",
     "output_type": "stream",
     "text": [
      "This image depicts a person standing in an empty outdoor stadium, surrounded by rows of white seats. The individual is attired in a red and black long-sleeved shirt and dark pants, facing away from the camera.\n",
      "\n",
      "The stadium's seating area stretches out behind the person, with a lush green field on the left side of the image. In the background, a blue sky dominates the scene, punctuated by three light poles rising above the stadium.\n",
      "\n",
      "The overall atmosphere suggests that the individual is likely a maintenance worker or groundskeeper, engaged in routine tasks within the stadium."
     ]
    }
   ],
   "source": [
    "# Step 1: Download the image from a URL\n",
    "url = \"https://encrypted-tbn0.gstatic.com/images?q=tbn:ANd9GcTmrzE7JlZSe8wklhE2Qa-dFaA0rx9v-olBdQ&s\"\n",
    "response = requests.get(url)\n",
    "image_bytes = response.content\n",
    "\n",
    "# Step 2: Convert image to base64 string\n",
    "image_base64 = base64.b64encode(image_bytes).decode('utf-8')\n",
    "\n",
    "\n",
    "stream = ollama.chat(\n",
    "    model='llama3.2-vision',\n",
    "    messages=[{\n",
    "        'role': 'user',\n",
    "        'content': 'Can you write a caption for this image?',\n",
    "        'images': [image_base64]\n",
    "    }],\n",
    "    stream=True,\n",
    ")\n",
    "\n",
    "for chunk in stream:\n",
    "    print(chunk['message']['content'], end='', flush=True)"
   ]
  },
  {
   "cell_type": "markdown",
   "id": "053d3738-a3c0-4d44-83b8-7f90ddce9cd6",
   "metadata": {},
   "source": [
    "#### Explaining memes"
   ]
  },
  {
   "cell_type": "code",
   "execution_count": 22,
   "id": "d1ac5d88-6438-4ff6-849b-a888c90d8790",
   "metadata": {},
   "outputs": [
    {
     "name": "stdout",
     "output_type": "stream",
     "text": [
      "This meme is a play on the game show \"Who Wants To Be A Millionaire\" and features a photo of Steve Harvey, the host of the show. The image shows Steve Harvey with a confused expression on his face.\n",
      "\n",
      "The text at the top of the image reads \"*Male black widow spiders\". Below this are two options: \"A) Offer yourself as food\" and \"B) Offer yourself as food\".\n",
      "\n",
      "The joke is that the question being asked is about how to attract a male black widow spider, which is not something you would typically do on a game show. The humor comes from the unexpected twist of having a serious-looking game show host like Steve Harvey asking a silly question about spiders.\n",
      "\n",
      "Overall, the meme pokes fun at the idea of taking a serious situation (a game show) and turning it into something ridiculous (attracting black widow spiders). It's a lighthearted way to poke fun at the absurdity of life."
     ]
    }
   ],
   "source": [
    "# Step 1: Download the image from a URL\n",
    "url = \"https://encrypted-tbn0.gstatic.com/images?q=tbn:ANd9GcRgR9Jz6xUCXTN7ssNt3854QwmhbBJWKb4Fkw&s\"\n",
    "response = requests.get(url)\n",
    "image_bytes = response.content\n",
    "\n",
    "# Step 2: Convert image to base64 string\n",
    "image_base64 = base64.b64encode(image_bytes).decode('utf-8')\n",
    "\n",
    "\n",
    "stream = ollama.chat(\n",
    "    model='llama3.2-vision',\n",
    "    messages=[{\n",
    "        'role': 'user',\n",
    "        'content': 'Can you explain this meme to me?',\n",
    "        'images': [image_base64]\n",
    "    }],\n",
    "    stream=True,\n",
    ")\n",
    "\n",
    "for chunk in stream:\n",
    "    print(chunk['message']['content'], end='', flush=True)"
   ]
  },
  {
   "cell_type": "markdown",
   "id": "73926c2f-826f-4a15-8a67-b5ca4e4b6d9e",
   "metadata": {},
   "source": [
    "#### OCR"
   ]
  },
  {
   "cell_type": "code",
   "execution_count": 24,
   "id": "06e911d1-533d-48ba-923a-549544aba5b7",
   "metadata": {},
   "outputs": [
    {
     "name": "stdout",
     "output_type": "stream",
     "text": [
      "The image shows two screenshots of an iPhone screen, one on top of the other. The top screenshot is slightly larger than the bottom one.\n",
      "\n",
      "**Top Screenshot:**\n",
      "\n",
      "*   A yellow highlighted line runs across the middle of the screen with \"Bird Spotting\" written inside it.\n",
      "*   Below this are some details about a ruby-throated hummingbird:\n",
      "    *   Date: June 1\n",
      "    *   Time: 3:05 p.m.\n",
      "    *   Location: Backyard hummingbird feeder\n",
      "    *   Description: Silver throat and belly, emerald green back. Markings of a female as it lacked the distinctive red throat that males have.\n",
      "\n",
      "**Bottom Screenshot:**\n",
      "\n",
      "*   The bottom screenshot is slightly smaller and shows a formatting menu with options for title, heading, subheading, and body text.\n",
      "*   There are several lines of black text below these options, but they are not fully visible due to the overlap with the top screenshot."
     ]
    }
   ],
   "source": [
    "# Step 1: Download the image from a URL\n",
    "url = \"https://cdsassets.apple.com/live/7WUAS350/images/ios/ios-18-iphone-16-pro-notes-text-formatting-options.png\"\n",
    "response = requests.get(url)\n",
    "image_bytes = response.content\n",
    "\n",
    "# Step 2: Convert image to base64 string\n",
    "image_base64 = base64.b64encode(image_bytes).decode('utf-8')\n",
    "\n",
    "stream = ollama.chat(\n",
    "    model='llama3.2-vision',\n",
    "    messages=[{\n",
    "        'role': 'user',\n",
    "        'content': 'Can you transcribe the text from this screenshot in a markdown format?',\n",
    "        'images': [image_base64]\n",
    "    }],\n",
    "    stream=True,\n",
    ")\n",
    "\n",
    "for chunk in stream:\n",
    "    print(chunk['message']['content'], end='', flush=True)"
   ]
  }
 ],
 "metadata": {
  "kernelspec": {
   "display_name": "Python 3",
   "language": "python",
   "name": "python3"
  },
  "language_info": {
   "codemirror_mode": {
    "name": "ipython",
    "version": 3
   },
   "file_extension": ".py",
   "mimetype": "text/x-python",
   "name": "python",
   "nbconvert_exporter": "python",
   "pygments_lexer": "ipython3",
   "version": "3.13.2"
  }
 },
 "nbformat": 4,
 "nbformat_minor": 5
}
